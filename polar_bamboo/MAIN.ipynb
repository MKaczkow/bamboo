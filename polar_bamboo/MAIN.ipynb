{
 "cells": [
  {
   "cell_type": "code",
   "execution_count": 1,
   "metadata": {},
   "outputs": [],
   "source": [
    "import polars as pl\n",
    "import numpy as np"
   ]
  },
  {
   "cell_type": "code",
   "execution_count": 2,
   "metadata": {},
   "outputs": [],
   "source": [
    "run_rows = 5000\n",
    "rng = np.random.default_rng(seed=42)"
   ]
  },
  {
   "cell_type": "code",
   "execution_count": 3,
   "metadata": {},
   "outputs": [],
   "source": [
    "buildings_data = {\n",
    "    \"sqft\": rng.exponential(1000,  size=run_rows),\n",
    "    \"year\": rng.integers(1900, 2022, size=run_rows),\n",
    "    \"building_type\": rng.choice([\"house\", \"apartment\", \"office\"], size=run_rows),\n",
    "}"
   ]
  },
  {
   "cell_type": "code",
   "execution_count": 4,
   "metadata": {},
   "outputs": [],
   "source": [
    "buildings = pl.DataFrame(buildings_data)"
   ]
  },
  {
   "cell_type": "code",
   "execution_count": 5,
   "metadata": {},
   "outputs": [
    {
     "data": {
      "text/html": [
       "<div><style>\n",
       ".dataframe > thead > tr,\n",
       ".dataframe > tbody > tr {\n",
       "  text-align: right;\n",
       "  white-space: pre-wrap;\n",
       "}\n",
       "</style>\n",
       "<small>shape: (5_000, 3)</small><table border=\"1\" class=\"dataframe\"><thead><tr><th>sqft</th><th>year</th><th>building_type</th></tr><tr><td>f64</td><td>i64</td><td>str</td></tr></thead><tbody><tr><td>2404.208604</td><td>1940</td><td>&quot;office&quot;</td></tr><tr><td>2336.189656</td><td>1902</td><td>&quot;apartment&quot;</td></tr><tr><td>2384.761</td><td>1988</td><td>&quot;apartment&quot;</td></tr><tr><td>279.79429</td><td>1964</td><td>&quot;office&quot;</td></tr><tr><td>86.4374</td><td>1955</td><td>&quot;apartment&quot;</td></tr><tr><td>&hellip;</td><td>&hellip;</td><td>&hellip;</td></tr><tr><td>667.344971</td><td>2003</td><td>&quot;house&quot;</td></tr><tr><td>3.45844</td><td>1996</td><td>&quot;apartment&quot;</td></tr><tr><td>618.507533</td><td>1902</td><td>&quot;house&quot;</td></tr><tr><td>63.796408</td><td>1984</td><td>&quot;office&quot;</td></tr><tr><td>1925.360449</td><td>2001</td><td>&quot;house&quot;</td></tr></tbody></table></div>"
      ],
      "text/plain": [
       "shape: (5_000, 3)\n",
       "┌─────────────┬──────┬───────────────┐\n",
       "│ sqft        ┆ year ┆ building_type │\n",
       "│ ---         ┆ ---  ┆ ---           │\n",
       "│ f64         ┆ i64  ┆ str           │\n",
       "╞═════════════╪══════╪═══════════════╡\n",
       "│ 2404.208604 ┆ 1940 ┆ office        │\n",
       "│ 2336.189656 ┆ 1902 ┆ apartment     │\n",
       "│ 2384.761    ┆ 1988 ┆ apartment     │\n",
       "│ 279.79429   ┆ 1964 ┆ office        │\n",
       "│ 86.4374     ┆ 1955 ┆ apartment     │\n",
       "│ …           ┆ …    ┆ …             │\n",
       "│ 667.344971  ┆ 2003 ┆ house         │\n",
       "│ 3.45844     ┆ 1996 ┆ apartment     │\n",
       "│ 618.507533  ┆ 1902 ┆ house         │\n",
       "│ 63.796408   ┆ 1984 ┆ office        │\n",
       "│ 1925.360449 ┆ 2001 ┆ house         │\n",
       "└─────────────┴──────┴───────────────┘"
      ]
     },
     "execution_count": 5,
     "metadata": {},
     "output_type": "execute_result"
    }
   ],
   "source": [
    "buildings"
   ]
  },
  {
   "cell_type": "code",
   "execution_count": 6,
   "metadata": {},
   "outputs": [
    {
     "data": {
      "text/plain": [
       "Schema([('sqft', Float64), ('year', Int64), ('building_type', String)])"
      ]
     },
     "execution_count": 6,
     "metadata": {},
     "output_type": "execute_result"
    }
   ],
   "source": [
    "buildings.schema"
   ]
  },
  {
   "cell_type": "code",
   "execution_count": null,
   "metadata": {},
   "outputs": [
    {
     "data": {
      "text/html": [
       "<div><style>\n",
       ".dataframe > thead > tr,\n",
       ".dataframe > tbody > tr {\n",
       "  text-align: right;\n",
       "  white-space: pre-wrap;\n",
       "}\n",
       "</style>\n",
       "<small>shape: (9, 4)</small><table border=\"1\" class=\"dataframe\"><thead><tr><th>statistic</th><th>sqft</th><th>year</th><th>building_type</th></tr><tr><td>str</td><td>f64</td><td>f64</td><td>str</td></tr></thead><tbody><tr><td>&quot;count&quot;</td><td>5000.0</td><td>5000.0</td><td>&quot;5000&quot;</td></tr><tr><td>&quot;null_count&quot;</td><td>0.0</td><td>0.0</td><td>&quot;0&quot;</td></tr><tr><td>&quot;mean&quot;</td><td>983.760414</td><td>1960.2354</td><td>null</td></tr><tr><td>&quot;std&quot;</td><td>986.045262</td><td>35.221972</td><td>null</td></tr><tr><td>&quot;min&quot;</td><td>0.071226</td><td>1900.0</td><td>&quot;apartment&quot;</td></tr><tr><td>&quot;25%&quot;</td><td>289.645565</td><td>1930.0</td><td>null</td></tr><tr><td>&quot;50%&quot;</td><td>692.554718</td><td>1961.0</td><td>null</td></tr><tr><td>&quot;75%&quot;</td><td>1344.965604</td><td>1990.0</td><td>null</td></tr><tr><td>&quot;max&quot;</td><td>9518.1197</td><td>2021.0</td><td>&quot;office&quot;</td></tr></tbody></table></div>"
      ],
      "text/plain": [
       "shape: (9, 4)\n",
       "┌────────────┬─────────────┬───────────┬───────────────┐\n",
       "│ statistic  ┆ sqft        ┆ year      ┆ building_type │\n",
       "│ ---        ┆ ---         ┆ ---       ┆ ---           │\n",
       "│ str        ┆ f64         ┆ f64       ┆ str           │\n",
       "╞════════════╪═════════════╪═══════════╪═══════════════╡\n",
       "│ count      ┆ 5000.0      ┆ 5000.0    ┆ 5000          │\n",
       "│ null_count ┆ 0.0         ┆ 0.0       ┆ 0             │\n",
       "│ mean       ┆ 983.760414  ┆ 1960.2354 ┆ null          │\n",
       "│ std        ┆ 986.045262  ┆ 35.221972 ┆ null          │\n",
       "│ min        ┆ 0.071226    ┆ 1900.0    ┆ apartment     │\n",
       "│ 25%        ┆ 289.645565  ┆ 1930.0    ┆ null          │\n",
       "│ 50%        ┆ 692.554718  ┆ 1961.0    ┆ null          │\n",
       "│ 75%        ┆ 1344.965604 ┆ 1990.0    ┆ null          │\n",
       "│ max        ┆ 9518.1197   ┆ 2021.0    ┆ office        │\n",
       "└────────────┴─────────────┴───────────┴───────────────┘"
      ]
     },
     "execution_count": 7,
     "metadata": {},
     "output_type": "execute_result"
    }
   ],
   "source": [
    "buildings.describe()"
   ]
  },
  {
   "cell_type": "code",
   "execution_count": 8,
   "metadata": {},
   "outputs": [
    {
     "name": "stderr",
     "output_type": "stream",
     "text": [
      "C:\\Users\\Maciek\\AppData\\Local\\Temp\\ipykernel_3756\\3163678603.py:5: DeprecationWarning: `pl.count()` is deprecated. Please use `pl.len()` instead.\n",
      "  pl.count(),\n"
     ]
    },
    {
     "data": {
      "text/html": [
       "<div><style>\n",
       ".dataframe > thead > tr,\n",
       ".dataframe > tbody > tr {\n",
       "  text-align: right;\n",
       "  white-space: pre-wrap;\n",
       "}\n",
       "</style>\n",
       "<small>shape: (3, 4)</small><table border=\"1\" class=\"dataframe\"><thead><tr><th>building_type</th><th>mean_sqft</th><th>median_year</th><th>count</th></tr><tr><td>str</td><td>f64</td><td>f64</td><td>u32</td></tr></thead><tbody><tr><td>&quot;apartment&quot;</td><td>953.724951</td><td>1959.0</td><td>1648</td></tr><tr><td>&quot;house&quot;</td><td>1002.747608</td><td>1959.0</td><td>1698</td></tr><tr><td>&quot;office&quot;</td><td>994.194628</td><td>1962.0</td><td>1654</td></tr></tbody></table></div>"
      ],
      "text/plain": [
       "shape: (3, 4)\n",
       "┌───────────────┬─────────────┬─────────────┬───────┐\n",
       "│ building_type ┆ mean_sqft   ┆ median_year ┆ count │\n",
       "│ ---           ┆ ---         ┆ ---         ┆ ---   │\n",
       "│ str           ┆ f64         ┆ f64         ┆ u32   │\n",
       "╞═══════════════╪═════════════╪═════════════╪═══════╡\n",
       "│ apartment     ┆ 953.724951  ┆ 1959.0      ┆ 1648  │\n",
       "│ house         ┆ 1002.747608 ┆ 1959.0      ┆ 1698  │\n",
       "│ office        ┆ 994.194628  ┆ 1962.0      ┆ 1654  │\n",
       "└───────────────┴─────────────┴─────────────┴───────┘"
      ]
     },
     "execution_count": 8,
     "metadata": {},
     "output_type": "execute_result"
    }
   ],
   "source": [
    "buildings.group_by(\"building_type\").agg(\n",
    "    [\n",
    "        pl.mean(\"sqft\").alias(\"mean_sqft\"),\n",
    "        pl.median(\"year\").alias(\"median_year\"),\n",
    "        pl.count(),\n",
    "    ]\n",
    ")"
   ]
  },
  {
   "cell_type": "markdown",
   "metadata": {},
   "source": [
    "## Lazy"
   ]
  },
  {
   "cell_type": "code",
   "execution_count": 11,
   "metadata": {},
   "outputs": [],
   "source": [
    "buildings_data_lazy = {\n",
    "    \"sqft\": rng.exponential(1000,  size=run_rows),\n",
    "    \"year\": rng.integers(1900, 2022, size=run_rows),\n",
    "    \"building_type\": rng.choice([\"house\", \"apartment\", \"office\"], size=run_rows),\n",
    "    \"price\": rng.exponential(100_000, size=run_rows),\n",
    "}"
   ]
  },
  {
   "cell_type": "code",
   "execution_count": 12,
   "metadata": {},
   "outputs": [],
   "source": [
    "buildings_lazy = pl.LazyFrame(buildings_data_lazy)"
   ]
  },
  {
   "cell_type": "code",
   "execution_count": 13,
   "metadata": {},
   "outputs": [
    {
     "data": {
      "text/html": [
       "<i>naive plan: (run <b>LazyFrame.explain(optimized=True)</b> to see the optimized plan)</i>\n",
       "    <p></p>\n",
       "    <div>DF [\"sqft\", \"year\", \"building_type\", \"price\"]; PROJECT */4 COLUMNS; SELECTION: None</div>"
      ],
      "text/plain": [
       "<LazyFrame at 0x1FA54F2A480>"
      ]
     },
     "execution_count": 13,
     "metadata": {},
     "output_type": "execute_result"
    }
   ],
   "source": [
    "buildings_lazy"
   ]
  },
  {
   "cell_type": "code",
   "execution_count": 14,
   "metadata": {},
   "outputs": [],
   "source": [
    "lazy_query = (\n",
    "    buildings_lazy\n",
    "    .with_columns(\n",
    "        (pl.col(\"price\") / pl.col(\"sqft\")).alias(\"price_per_sqft\"),\n",
    "    )\n",
    "    .filter(pl.col(\"price_per_sqft\") > 100)\n",
    "    .filter(pl.col(\"year\") < 2000)\n",
    ")"
   ]
  },
  {
   "cell_type": "code",
   "execution_count": 15,
   "metadata": {},
   "outputs": [
    {
     "data": {
      "text/html": [
       "<i>naive plan: (run <b>LazyFrame.explain(optimized=True)</b> to see the optimized plan)</i>\n",
       "    <p></p>\n",
       "    <div>FILTER [(col(\"year\")) < (2000)] FROM<p></p>  FILTER [(col(\"price_per_sqft\")) > (100.0)] FROM<p></p>     WITH_COLUMNS:<p></p>     [[(col(\"price\")) / (col(\"sqft\"))].alias(\"price_per_sqft\")] <p></p>      DF [\"sqft\", \"year\", \"building_type\", \"price\"]; PROJECT */4 COLUMNS; SELECTION: None</div>"
      ],
      "text/plain": [
       "<LazyFrame at 0x1FA36AEDC40>"
      ]
     },
     "execution_count": 15,
     "metadata": {},
     "output_type": "execute_result"
    }
   ],
   "source": [
    "lazy_query"
   ]
  },
  {
   "cell_type": "code",
   "execution_count": 17,
   "metadata": {},
   "outputs": [],
   "source": [
    "# broken, due to graphviz missing\n",
    "# lazy_query.show_graph()\n"
   ]
  },
  {
   "cell_type": "code",
   "execution_count": 18,
   "metadata": {},
   "outputs": [
    {
     "name": "stdout",
     "output_type": "stream",
     "text": [
      "FILTER [(col(\"price_per_sqft\")) > (100.0)] FROM\n",
      "   WITH_COLUMNS:\n",
      "   [[(col(\"price\")) / (col(\"sqft\"))].alias(\"price_per_sqft\")] \n",
      "    DF [\"sqft\", \"year\", \"building_type\", \"price\"]; PROJECT */4 COLUMNS; SELECTION: [(col(\"year\")) < (2000)]\n"
     ]
    }
   ],
   "source": [
    "print(lazy_query.explain())"
   ]
  },
  {
   "cell_type": "code",
   "execution_count": null,
   "metadata": {},
   "outputs": [],
   "source": []
  }
 ],
 "metadata": {
  "kernelspec": {
   "display_name": "venv",
   "language": "python",
   "name": "python3"
  },
  "language_info": {
   "codemirror_mode": {
    "name": "ipython",
    "version": 3
   },
   "file_extension": ".py",
   "mimetype": "text/x-python",
   "name": "python",
   "nbconvert_exporter": "python",
   "pygments_lexer": "ipython3",
   "version": "3.12.3"
  }
 },
 "nbformat": 4,
 "nbformat_minor": 2
}
