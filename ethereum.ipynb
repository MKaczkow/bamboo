{
 "cells": [
  {
   "cell_type": "markdown",
   "id": "4b59d600",
   "metadata": {},
   "source": [
    "# Part X\n",
    "Time Series Data"
   ]
  },
  {
   "cell_type": "code",
   "execution_count": null,
   "id": "6460a32a",
   "metadata": {},
   "outputs": [],
   "source": [
    "import pandas as pd\n",
    "from matplotlib import pyplot as plt\n",
    "from datetime import datetime"
   ]
  },
  {
   "cell_type": "code",
   "execution_count": null,
   "id": "e9b0dac9",
   "metadata": {},
   "outputs": [],
   "source": [
    "d_parser = lambda x: pd.datetime.strptime(x, '%Y-%m-%d %I-%p')\n",
    "eth_df = pd.read_csv('data/ETH_1h.csv', parse_dates=['Date'], date_parser=d_parser)"
   ]
  },
  {
   "cell_type": "code",
   "execution_count": null,
   "id": "45a925bd",
   "metadata": {},
   "outputs": [],
   "source": [
    "eth_df.head(10)"
   ]
  },
  {
   "cell_type": "code",
   "execution_count": null,
   "id": "83791552",
   "metadata": {},
   "outputs": [],
   "source": [
    "eth_df['Date']"
   ]
  },
  {
   "cell_type": "code",
   "execution_count": null,
   "id": "f8a3a7c2",
   "metadata": {},
   "outputs": [],
   "source": [
    "eth_df.loc[0, 'Date'].day_name()"
   ]
  },
  {
   "cell_type": "code",
   "execution_count": null,
   "id": "981822ce",
   "metadata": {},
   "outputs": [],
   "source": [
    "eth_df['Date'].dt.day_name()"
   ]
  },
  {
   "cell_type": "code",
   "execution_count": null,
   "id": "7d402710",
   "metadata": {},
   "outputs": [],
   "source": [
    "eth_df['Date'].min()"
   ]
  },
  {
   "cell_type": "code",
   "execution_count": null,
   "id": "ba0b8c9d",
   "metadata": {},
   "outputs": [],
   "source": [
    "eth_df['Date'].max()"
   ]
  },
  {
   "cell_type": "code",
   "execution_count": null,
   "id": "9777ef04",
   "metadata": {},
   "outputs": [],
   "source": [
    "eth_df['Date'].max() - eth_df['Date'].min()"
   ]
  },
  {
   "cell_type": "code",
   "execution_count": null,
   "id": "dcfcd349",
   "metadata": {},
   "outputs": [],
   "source": [
    "filt = (eth_df['Date'] >= pd.to_datetime('2019-01-01')) & (eth_df['Date'] < pd.to_datetime('2020-01-01'))\n",
    "eth_df.loc[filt]"
   ]
  },
  {
   "cell_type": "code",
   "execution_count": null,
   "id": "4956b2cd",
   "metadata": {},
   "outputs": [],
   "source": [
    "eth_df.set_index('Date', inplace=True)"
   ]
  },
  {
   "cell_type": "code",
   "execution_count": null,
   "id": "bce2e4a7",
   "metadata": {},
   "outputs": [],
   "source": [
    "eth_df['2020-01': '2020-02']['Close'].mean()"
   ]
  },
  {
   "cell_type": "code",
   "execution_count": null,
   "id": "90946c62",
   "metadata": {},
   "outputs": [],
   "source": [
    "eth_df['2020-01': '2020-02']['Close'].median()"
   ]
  },
  {
   "cell_type": "code",
   "execution_count": null,
   "id": "0f778a22",
   "metadata": {},
   "outputs": [],
   "source": [
    "eth_df['2020-01': '2020-01-01']['High'].max()"
   ]
  },
  {
   "cell_type": "code",
   "execution_count": null,
   "id": "d5b06730",
   "metadata": {},
   "outputs": [],
   "source": [
    "highs = eth_df['High'].resample('D').max()\n",
    "highs['2020-01-01']"
   ]
  },
  {
   "cell_type": "code",
   "execution_count": null,
   "id": "5513e0e7",
   "metadata": {},
   "outputs": [],
   "source": [
    "%matplotlib inline"
   ]
  },
  {
   "cell_type": "code",
   "execution_count": null,
   "id": "cc9f6aa9",
   "metadata": {},
   "outputs": [],
   "source": [
    "highs.plot()"
   ]
  },
  {
   "cell_type": "code",
   "execution_count": null,
   "id": "86e86d73",
   "metadata": {},
   "outputs": [],
   "source": [
    "eth_df.resample('W').agg({'Close': 'mean', 'High': 'max', 'Low': 'min', 'Volume': 'sum'})"
   ]
  }
 ],
 "metadata": {
  "kernelspec": {
   "display_name": "Python 3 (ipykernel)",
   "language": "python",
   "name": "python3"
  },
  "language_info": {
   "codemirror_mode": {
    "name": "ipython",
    "version": 3
   },
   "file_extension": ".py",
   "mimetype": "text/x-python",
   "name": "python",
   "nbconvert_exporter": "python",
   "pygments_lexer": "ipython3",
   "version": "3.7.3"
  }
 },
 "nbformat": 4,
 "nbformat_minor": 5
}
