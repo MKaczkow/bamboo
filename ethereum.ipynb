{
 "cells": [
  {
   "cell_type": "markdown",
   "id": "ef56267a",
   "metadata": {},
   "source": [
    "# Part X\n",
    "Time Series Data"
   ]
  },
  {
   "cell_type": "code",
   "execution_count": 24,
   "id": "6adba89a",
   "metadata": {},
   "outputs": [],
   "source": [
    "import pandas as pd\n",
    "from datetime import datetime"
   ]
  },
  {
   "cell_type": "code",
   "execution_count": 27,
   "id": "dfe768c3",
   "metadata": {},
   "outputs": [],
   "source": [
    "d_parser = lambda x: datetime.strptime(x, '%Y-%m-%d %I-%p')\n",
    "df = pd.read_csv('data/ETH_1h.csv', parse_dates=['Date'], date_parser=d_parser)"
   ]
  },
  {
   "cell_type": "code",
   "execution_count": 4,
   "id": "793b5e7d",
   "metadata": {},
   "outputs": [
    {
     "data": {
      "text/html": [
       "<div>\n",
       "<style scoped>\n",
       "    .dataframe tbody tr th:only-of-type {\n",
       "        vertical-align: middle;\n",
       "    }\n",
       "\n",
       "    .dataframe tbody tr th {\n",
       "        vertical-align: top;\n",
       "    }\n",
       "\n",
       "    .dataframe thead th {\n",
       "        text-align: right;\n",
       "    }\n",
       "</style>\n",
       "<table border=\"1\" class=\"dataframe\">\n",
       "  <thead>\n",
       "    <tr style=\"text-align: right;\">\n",
       "      <th></th>\n",
       "      <th>Date</th>\n",
       "      <th>Symbol</th>\n",
       "      <th>Open</th>\n",
       "      <th>High</th>\n",
       "      <th>Low</th>\n",
       "      <th>Close</th>\n",
       "      <th>Volume</th>\n",
       "    </tr>\n",
       "  </thead>\n",
       "  <tbody>\n",
       "    <tr>\n",
       "      <th>0</th>\n",
       "      <td>2020-03-13 08-PM</td>\n",
       "      <td>ETHUSD</td>\n",
       "      <td>129.94</td>\n",
       "      <td>131.82</td>\n",
       "      <td>126.87</td>\n",
       "      <td>128.71</td>\n",
       "      <td>1940673.93</td>\n",
       "    </tr>\n",
       "    <tr>\n",
       "      <th>1</th>\n",
       "      <td>2020-03-13 07-PM</td>\n",
       "      <td>ETHUSD</td>\n",
       "      <td>119.51</td>\n",
       "      <td>132.02</td>\n",
       "      <td>117.10</td>\n",
       "      <td>129.94</td>\n",
       "      <td>7579741.09</td>\n",
       "    </tr>\n",
       "    <tr>\n",
       "      <th>2</th>\n",
       "      <td>2020-03-13 06-PM</td>\n",
       "      <td>ETHUSD</td>\n",
       "      <td>124.47</td>\n",
       "      <td>124.85</td>\n",
       "      <td>115.50</td>\n",
       "      <td>119.51</td>\n",
       "      <td>4898735.81</td>\n",
       "    </tr>\n",
       "    <tr>\n",
       "      <th>3</th>\n",
       "      <td>2020-03-13 05-PM</td>\n",
       "      <td>ETHUSD</td>\n",
       "      <td>124.08</td>\n",
       "      <td>127.42</td>\n",
       "      <td>121.63</td>\n",
       "      <td>124.47</td>\n",
       "      <td>2753450.92</td>\n",
       "    </tr>\n",
       "    <tr>\n",
       "      <th>4</th>\n",
       "      <td>2020-03-13 04-PM</td>\n",
       "      <td>ETHUSD</td>\n",
       "      <td>124.85</td>\n",
       "      <td>129.51</td>\n",
       "      <td>120.17</td>\n",
       "      <td>124.08</td>\n",
       "      <td>4461424.71</td>\n",
       "    </tr>\n",
       "    <tr>\n",
       "      <th>5</th>\n",
       "      <td>2020-03-13 03-PM</td>\n",
       "      <td>ETHUSD</td>\n",
       "      <td>128.39</td>\n",
       "      <td>128.90</td>\n",
       "      <td>116.06</td>\n",
       "      <td>124.85</td>\n",
       "      <td>7378976.00</td>\n",
       "    </tr>\n",
       "    <tr>\n",
       "      <th>6</th>\n",
       "      <td>2020-03-13 02-PM</td>\n",
       "      <td>ETHUSD</td>\n",
       "      <td>134.03</td>\n",
       "      <td>137.90</td>\n",
       "      <td>125.50</td>\n",
       "      <td>128.39</td>\n",
       "      <td>3733916.89</td>\n",
       "    </tr>\n",
       "    <tr>\n",
       "      <th>7</th>\n",
       "      <td>2020-03-13 01-PM</td>\n",
       "      <td>ETHUSD</td>\n",
       "      <td>131.35</td>\n",
       "      <td>140.95</td>\n",
       "      <td>128.99</td>\n",
       "      <td>134.03</td>\n",
       "      <td>9582732.93</td>\n",
       "    </tr>\n",
       "    <tr>\n",
       "      <th>8</th>\n",
       "      <td>2020-03-13 12-PM</td>\n",
       "      <td>ETHUSD</td>\n",
       "      <td>128.93</td>\n",
       "      <td>134.60</td>\n",
       "      <td>126.95</td>\n",
       "      <td>131.35</td>\n",
       "      <td>3906590.52</td>\n",
       "    </tr>\n",
       "    <tr>\n",
       "      <th>9</th>\n",
       "      <td>2020-03-13 11-AM</td>\n",
       "      <td>ETHUSD</td>\n",
       "      <td>132.60</td>\n",
       "      <td>133.17</td>\n",
       "      <td>126.01</td>\n",
       "      <td>128.93</td>\n",
       "      <td>3311080.29</td>\n",
       "    </tr>\n",
       "  </tbody>\n",
       "</table>\n",
       "</div>"
      ],
      "text/plain": [
       "               Date  Symbol    Open    High     Low   Close      Volume\n",
       "0  2020-03-13 08-PM  ETHUSD  129.94  131.82  126.87  128.71  1940673.93\n",
       "1  2020-03-13 07-PM  ETHUSD  119.51  132.02  117.10  129.94  7579741.09\n",
       "2  2020-03-13 06-PM  ETHUSD  124.47  124.85  115.50  119.51  4898735.81\n",
       "3  2020-03-13 05-PM  ETHUSD  124.08  127.42  121.63  124.47  2753450.92\n",
       "4  2020-03-13 04-PM  ETHUSD  124.85  129.51  120.17  124.08  4461424.71\n",
       "5  2020-03-13 03-PM  ETHUSD  128.39  128.90  116.06  124.85  7378976.00\n",
       "6  2020-03-13 02-PM  ETHUSD  134.03  137.90  125.50  128.39  3733916.89\n",
       "7  2020-03-13 01-PM  ETHUSD  131.35  140.95  128.99  134.03  9582732.93\n",
       "8  2020-03-13 12-PM  ETHUSD  128.93  134.60  126.95  131.35  3906590.52\n",
       "9  2020-03-13 11-AM  ETHUSD  132.60  133.17  126.01  128.93  3311080.29"
      ]
     },
     "execution_count": 4,
     "metadata": {},
     "output_type": "execute_result"
    }
   ],
   "source": [
    "eth_df.head(10)"
   ]
  },
  {
   "cell_type": "code",
   "execution_count": 8,
   "id": "dea8d503",
   "metadata": {},
   "outputs": [
    {
     "data": {
      "text/plain": [
       "0       2020-03-13 20:00:00\n",
       "1       2020-03-13 19:00:00\n",
       "2       2020-03-13 18:00:00\n",
       "3       2020-03-13 17:00:00\n",
       "4       2020-03-13 16:00:00\n",
       "                ...        \n",
       "23669   2017-07-01 15:00:00\n",
       "23670   2017-07-01 14:00:00\n",
       "23671   2017-07-01 13:00:00\n",
       "23672   2017-07-01 12:00:00\n",
       "23673   2017-07-01 11:00:00\n",
       "Name: Date, Length: 23674, dtype: datetime64[ns]"
      ]
     },
     "execution_count": 8,
     "metadata": {},
     "output_type": "execute_result"
    }
   ],
   "source": [
    "eth_df['Date']"
   ]
  },
  {
   "cell_type": "code",
   "execution_count": 9,
   "id": "d0aa7da5",
   "metadata": {},
   "outputs": [
    {
     "data": {
      "text/plain": [
       "'Friday'"
      ]
     },
     "execution_count": 9,
     "metadata": {},
     "output_type": "execute_result"
    }
   ],
   "source": [
    "eth_df.loc[0, 'Date'].day_name()"
   ]
  },
  {
   "cell_type": "code",
   "execution_count": 10,
   "id": "d63de89b",
   "metadata": {},
   "outputs": [
    {
     "data": {
      "text/plain": [
       "0          Friday\n",
       "1          Friday\n",
       "2          Friday\n",
       "3          Friday\n",
       "4          Friday\n",
       "           ...   \n",
       "23669    Saturday\n",
       "23670    Saturday\n",
       "23671    Saturday\n",
       "23672    Saturday\n",
       "23673    Saturday\n",
       "Name: Date, Length: 23674, dtype: object"
      ]
     },
     "execution_count": 10,
     "metadata": {},
     "output_type": "execute_result"
    }
   ],
   "source": [
    "eth_df['Date'].dt.day_name()"
   ]
  },
  {
   "cell_type": "code",
   "execution_count": 11,
   "id": "7b1cea13",
   "metadata": {},
   "outputs": [
    {
     "data": {
      "text/plain": [
       "Timestamp('2017-07-01 11:00:00')"
      ]
     },
     "execution_count": 11,
     "metadata": {},
     "output_type": "execute_result"
    }
   ],
   "source": [
    "eth_df['Date'].min()"
   ]
  },
  {
   "cell_type": "code",
   "execution_count": 12,
   "id": "44c059c6",
   "metadata": {},
   "outputs": [
    {
     "data": {
      "text/plain": [
       "Timestamp('2020-03-13 20:00:00')"
      ]
     },
     "execution_count": 12,
     "metadata": {},
     "output_type": "execute_result"
    }
   ],
   "source": [
    "eth_df['Date'].max()"
   ]
  },
  {
   "cell_type": "code",
   "execution_count": 13,
   "id": "1197fc11",
   "metadata": {},
   "outputs": [
    {
     "data": {
      "text/plain": [
       "Timedelta('986 days 09:00:00')"
      ]
     },
     "execution_count": 13,
     "metadata": {},
     "output_type": "execute_result"
    }
   ],
   "source": [
    "eth_df['Date'].max() - eth_df['Date'].min()"
   ]
  },
  {
   "cell_type": "code",
   "execution_count": 17,
   "id": "6f4d82d3",
   "metadata": {},
   "outputs": [
    {
     "data": {
      "text/html": [
       "<div>\n",
       "<style scoped>\n",
       "    .dataframe tbody tr th:only-of-type {\n",
       "        vertical-align: middle;\n",
       "    }\n",
       "\n",
       "    .dataframe tbody tr th {\n",
       "        vertical-align: top;\n",
       "    }\n",
       "\n",
       "    .dataframe thead th {\n",
       "        text-align: right;\n",
       "    }\n",
       "</style>\n",
       "<table border=\"1\" class=\"dataframe\">\n",
       "  <thead>\n",
       "    <tr style=\"text-align: right;\">\n",
       "      <th></th>\n",
       "      <th>Date</th>\n",
       "      <th>Symbol</th>\n",
       "      <th>Open</th>\n",
       "      <th>High</th>\n",
       "      <th>Low</th>\n",
       "      <th>Close</th>\n",
       "      <th>Volume</th>\n",
       "    </tr>\n",
       "  </thead>\n",
       "  <tbody>\n",
       "    <tr>\n",
       "      <th>1749</th>\n",
       "      <td>2019-12-31 23:00:00</td>\n",
       "      <td>ETHUSD</td>\n",
       "      <td>128.33</td>\n",
       "      <td>128.69</td>\n",
       "      <td>128.14</td>\n",
       "      <td>128.54</td>\n",
       "      <td>440678.91</td>\n",
       "    </tr>\n",
       "    <tr>\n",
       "      <th>1750</th>\n",
       "      <td>2019-12-31 22:00:00</td>\n",
       "      <td>ETHUSD</td>\n",
       "      <td>128.38</td>\n",
       "      <td>128.69</td>\n",
       "      <td>127.95</td>\n",
       "      <td>128.33</td>\n",
       "      <td>554646.02</td>\n",
       "    </tr>\n",
       "    <tr>\n",
       "      <th>1751</th>\n",
       "      <td>2019-12-31 21:00:00</td>\n",
       "      <td>ETHUSD</td>\n",
       "      <td>127.86</td>\n",
       "      <td>128.43</td>\n",
       "      <td>127.72</td>\n",
       "      <td>128.38</td>\n",
       "      <td>350155.69</td>\n",
       "    </tr>\n",
       "    <tr>\n",
       "      <th>1752</th>\n",
       "      <td>2019-12-31 20:00:00</td>\n",
       "      <td>ETHUSD</td>\n",
       "      <td>127.84</td>\n",
       "      <td>128.34</td>\n",
       "      <td>127.71</td>\n",
       "      <td>127.86</td>\n",
       "      <td>428183.38</td>\n",
       "    </tr>\n",
       "    <tr>\n",
       "      <th>1753</th>\n",
       "      <td>2019-12-31 19:00:00</td>\n",
       "      <td>ETHUSD</td>\n",
       "      <td>128.69</td>\n",
       "      <td>128.69</td>\n",
       "      <td>127.60</td>\n",
       "      <td>127.84</td>\n",
       "      <td>1169847.84</td>\n",
       "    </tr>\n",
       "    <tr>\n",
       "      <th>...</th>\n",
       "      <td>...</td>\n",
       "      <td>...</td>\n",
       "      <td>...</td>\n",
       "      <td>...</td>\n",
       "      <td>...</td>\n",
       "      <td>...</td>\n",
       "      <td>...</td>\n",
       "    </tr>\n",
       "    <tr>\n",
       "      <th>10504</th>\n",
       "      <td>2019-01-01 04:00:00</td>\n",
       "      <td>ETHUSD</td>\n",
       "      <td>130.75</td>\n",
       "      <td>133.96</td>\n",
       "      <td>130.74</td>\n",
       "      <td>131.96</td>\n",
       "      <td>2791135.37</td>\n",
       "    </tr>\n",
       "    <tr>\n",
       "      <th>10505</th>\n",
       "      <td>2019-01-01 03:00:00</td>\n",
       "      <td>ETHUSD</td>\n",
       "      <td>130.06</td>\n",
       "      <td>130.79</td>\n",
       "      <td>130.06</td>\n",
       "      <td>130.75</td>\n",
       "      <td>503732.63</td>\n",
       "    </tr>\n",
       "    <tr>\n",
       "      <th>10506</th>\n",
       "      <td>2019-01-01 02:00:00</td>\n",
       "      <td>ETHUSD</td>\n",
       "      <td>130.79</td>\n",
       "      <td>130.88</td>\n",
       "      <td>129.55</td>\n",
       "      <td>130.06</td>\n",
       "      <td>838183.43</td>\n",
       "    </tr>\n",
       "    <tr>\n",
       "      <th>10507</th>\n",
       "      <td>2019-01-01 01:00:00</td>\n",
       "      <td>ETHUSD</td>\n",
       "      <td>131.62</td>\n",
       "      <td>131.62</td>\n",
       "      <td>130.77</td>\n",
       "      <td>130.79</td>\n",
       "      <td>434917.99</td>\n",
       "    </tr>\n",
       "    <tr>\n",
       "      <th>10508</th>\n",
       "      <td>2019-01-01 00:00:00</td>\n",
       "      <td>ETHUSD</td>\n",
       "      <td>130.53</td>\n",
       "      <td>131.91</td>\n",
       "      <td>130.48</td>\n",
       "      <td>131.62</td>\n",
       "      <td>1067136.21</td>\n",
       "    </tr>\n",
       "  </tbody>\n",
       "</table>\n",
       "<p>8760 rows × 7 columns</p>\n",
       "</div>"
      ],
      "text/plain": [
       "                     Date  Symbol    Open    High     Low   Close      Volume\n",
       "1749  2019-12-31 23:00:00  ETHUSD  128.33  128.69  128.14  128.54   440678.91\n",
       "1750  2019-12-31 22:00:00  ETHUSD  128.38  128.69  127.95  128.33   554646.02\n",
       "1751  2019-12-31 21:00:00  ETHUSD  127.86  128.43  127.72  128.38   350155.69\n",
       "1752  2019-12-31 20:00:00  ETHUSD  127.84  128.34  127.71  127.86   428183.38\n",
       "1753  2019-12-31 19:00:00  ETHUSD  128.69  128.69  127.60  127.84  1169847.84\n",
       "...                   ...     ...     ...     ...     ...     ...         ...\n",
       "10504 2019-01-01 04:00:00  ETHUSD  130.75  133.96  130.74  131.96  2791135.37\n",
       "10505 2019-01-01 03:00:00  ETHUSD  130.06  130.79  130.06  130.75   503732.63\n",
       "10506 2019-01-01 02:00:00  ETHUSD  130.79  130.88  129.55  130.06   838183.43\n",
       "10507 2019-01-01 01:00:00  ETHUSD  131.62  131.62  130.77  130.79   434917.99\n",
       "10508 2019-01-01 00:00:00  ETHUSD  130.53  131.91  130.48  131.62  1067136.21\n",
       "\n",
       "[8760 rows x 7 columns]"
      ]
     },
     "execution_count": 17,
     "metadata": {},
     "output_type": "execute_result"
    }
   ],
   "source": [
    "filt = (eth_df['Date'] >= pd.to_datetime('2019-01-01')) & (eth_df['Date'] < pd.to_datetime('2020-01-01'))\n",
    "eth_df.loc[filt]"
   ]
  },
  {
   "cell_type": "code",
   "execution_count": 29,
   "id": "8b416c75",
   "metadata": {},
   "outputs": [],
   "source": [
    "eth_df.set_index('Date', inplace=True)"
   ]
  },
  {
   "cell_type": "code",
   "execution_count": null,
   "id": "92185575",
   "metadata": {},
   "outputs": [],
   "source": []
  }
 ],
 "metadata": {
  "kernelspec": {
   "display_name": "Python 3 (ipykernel)",
   "language": "python",
   "name": "python3"
  },
  "language_info": {
   "codemirror_mode": {
    "name": "ipython",
    "version": 3
   },
   "file_extension": ".py",
   "mimetype": "text/x-python",
   "name": "python",
   "nbconvert_exporter": "python",
   "pygments_lexer": "ipython3",
   "version": "3.7.3"
  }
 },
 "nbformat": 4,
 "nbformat_minor": 5
}
