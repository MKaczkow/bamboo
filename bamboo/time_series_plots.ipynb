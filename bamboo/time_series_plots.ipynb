{
 "cells": [
  {
   "cell_type": "markdown",
   "id": "2f1db378",
   "metadata": {},
   "source": [
    "# Part VIII\n",
    "Time Series Data"
   ]
  },
  {
   "cell_type": "code",
   "execution_count": null,
   "id": "64c2025e",
   "metadata": {},
   "outputs": [],
   "source": [
    "import pandas as pd\n",
    "from datetime import datetime, timedelta\n",
    "from matplotlib import pyplot as plt\n",
    "from matplotlib import dates as mpl_dates"
   ]
  },
  {
   "cell_type": "code",
   "execution_count": null,
   "id": "4e9aea78",
   "metadata": {},
   "outputs": [],
   "source": [
    "plt.style.use('seaborn')"
   ]
  },
  {
   "cell_type": "code",
   "execution_count": null,
   "id": "528146f2",
   "metadata": {},
   "outputs": [],
   "source": [
    "dates = [\n",
    "    datetime(2019, 5, 24),\n",
    "    datetime(2019, 5, 25),\n",
    "    datetime(2019, 5, 26),\n",
    "    datetime(2019, 5, 27),\n",
    "    datetime(2019, 5, 28),\n",
    "    datetime(2019, 5, 29),\n",
    "    datetime(2019, 5, 30)\n",
    "]\n",
    "\n",
    "y = [0, 1, 3, 4, 6, 5, 7]"
   ]
  },
  {
   "cell_type": "code",
   "execution_count": null,
   "id": "d7451b14",
   "metadata": {},
   "outputs": [],
   "source": [
    "plt.plot_date(dates, y, linestyle='solid')\n",
    "plt.gcf().autofmt_xdate()\n",
    "date_format = mpl_dates.DateFormatter('%b, %d %Y')\n",
    "plt.gca().xaxis.set_major_formatter(date_format)\n",
    "\n",
    "plt.tight_layout()\n",
    "\n",
    "plt.show()"
   ]
  },
  {
   "cell_type": "code",
   "execution_count": null,
   "id": "ca4a971e",
   "metadata": {},
   "outputs": [],
   "source": [
    "data_df = pd.read_csv('data/time_series.csv')\n",
    "data_df['Date'] = pd.to_datetime(data_df['Date'])\n",
    "data.sort_values('Date', inplace=True)\n",
    "\n",
    "price_date = data_df['Date']\n",
    "price_close = data_df['Close']"
   ]
  },
  {
   "cell_type": "code",
   "execution_count": null,
   "id": "3a3c7415",
   "metadata": {},
   "outputs": [],
   "source": [
    "plt.plot_date(price_date, price_close, linestyle='solid')\n",
    "\n",
    "plt.gcf().autofmt_xdate()\n",
    "date_format = mpl_dates.DateFormatter('%b, %d %Y')\n",
    "plt.gca().xaxis.set_major_formatter(date_format)\n",
    "\n",
    "plt.title('Bitcoin Prices')\n",
    "plt.xlabel('Date')\n",
    "plt.ylabel('Closing Price')\n",
    "plt.tight_layout()\n",
    "\n",
    "plt.show()"
   ]
  },
  {
   "cell_type": "markdown",
   "id": "33ad212e",
   "metadata": {},
   "source": [
    "# Part IX\n",
    "Plotting in Real-Time"
   ]
  },
  {
   "cell_type": "markdown",
   "id": "c9be24f7",
   "metadata": {},
   "source": [
    "_Intentionally ommited (for now) due to necessity of usage separate script for data source_"
   ]
  }
 ],
 "metadata": {
  "kernelspec": {
   "display_name": "Python 3 (ipykernel)",
   "language": "python",
   "name": "python3"
  },
  "language_info": {
   "codemirror_mode": {
    "name": "ipython",
    "version": 3
   },
   "file_extension": ".py",
   "mimetype": "text/x-python",
   "name": "python",
   "nbconvert_exporter": "python",
   "pygments_lexer": "ipython3",
   "version": "3.7.3"
  }
 },
 "nbformat": 4,
 "nbformat_minor": 5
}
