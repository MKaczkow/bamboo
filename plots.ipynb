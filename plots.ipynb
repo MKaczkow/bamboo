{
 "cells": [
  {
   "cell_type": "markdown",
   "id": "90333e11",
   "metadata": {},
   "source": [
    "# Part I\n",
    "Creating and Customizing Basic Plots"
   ]
  },
  {
   "cell_type": "code",
   "execution_count": 2,
   "id": "0660af4c",
   "metadata": {},
   "outputs": [],
   "source": [
    "from matplotlib import pyplot as plt\n",
    "from pprint import pprint\n",
    "from collections import Counter\n",
    "\n",
    "import pandas as pd\n",
    "import numpy as np\n",
    "import csv"
   ]
  },
  {
   "cell_type": "code",
   "execution_count": null,
   "id": "34426f7b",
   "metadata": {},
   "outputs": [],
   "source": [
    "plt.style.available"
   ]
  },
  {
   "cell_type": "code",
   "execution_count": 3,
   "id": "75e9b164",
   "metadata": {},
   "outputs": [],
   "source": [
    "%matplotlib inline\n",
    "\n",
    "# funny style\n",
    "# plt.xkcd()"
   ]
  },
  {
   "cell_type": "code",
   "execution_count": null,
   "id": "fc5b80f1",
   "metadata": {},
   "outputs": [],
   "source": [
    "# Median Developer Salaries by Age\n",
    "ages_x = [25, 26, 27, 28, 29, 30, 31, 32, 33, 34, 35]\n",
    "\n",
    "dev_y = [38496, 42000, 46752, 49320, 53200,\n",
    "         56000, 62316, 64928, 67317, 68748, 73752]\n",
    "\n",
    "# Median Python Developer Salaries by Age\n",
    "py_dev_y = [45372, 48876, 53850, 57287, 63016,\n",
    "            65998, 70003, 70000, 71496, 75370, 83640]\n",
    "\n",
    "# Median JavaScript Developer Salaries by Age\n",
    "js_dev_y = [37810, 43515, 46823, 49293, 53437,\n",
    "            56373, 62375, 66674, 68745, 68746, 74583]"
   ]
  },
  {
   "cell_type": "code",
   "execution_count": null,
   "id": "a4cad290",
   "metadata": {},
   "outputs": [],
   "source": [
    "plt.plot(ages_x, dev_y, label='All Devs')   # color='#444444', linestyle='--', linewidth=3, \n",
    "plt.plot(ages_x, py_dev_y, label='Python')   # color='#5a7d9a', linewidth=3, \n",
    "plt.plot(ages_x, js_dev_y, label='JavaScript'),   # color='#adad3b', linewidth=3,\n",
    "\n",
    "plt.xlabel('Age')\n",
    "plt.ylabel('Median Salary (USD)')\n",
    "plt.title('Median Salary (USD) by Age')\n",
    "plt.legend()\n",
    "\n",
    "plt.tight_layout()\n",
    "plt.show()\n",
    "\n",
    "plt.savefig('plot.png')"
   ]
  },
  {
   "cell_type": "code",
   "execution_count": null,
   "id": "f87491dd",
   "metadata": {},
   "outputs": [],
   "source": [
    "plt.style.use('fivethirtyeight')"
   ]
  },
  {
   "cell_type": "code",
   "execution_count": null,
   "id": "0e142112",
   "metadata": {},
   "outputs": [],
   "source": [
    "# Ages 18 to 55\n",
    "ages_richer_x = [18, 19, 20, 21, 22, 23, 24, 25, 26, 27, 28, 29, 30, 31, 32, 33, 34, 35,\n",
    "          36, 37, 38, 39, 40, 41, 42, 43, 44, 45, 46, 47, 48, 49, 50, 51, 52, 53, 54, 55]\n",
    "\n",
    "py_dev_richer_y = [20046, 17100, 20000, 24744, 30500, 37732, 41247, 45372, 48876, 53850, 57287, 63016, 65998, 70003, 70000, 71496, 75370, 83640, 84666,\n",
    "            84392, 78254, 85000, 87038, 91991, 100000, 94796, 97962, 93302, 99240, 102736, 112285, 100771, 104708, 108423, 101407, 112542, 122870, 120000]\n",
    "\n",
    "js_dev_richer_y = [16446, 16791, 18942, 21780, 25704, 29000, 34372, 37810, 43515, 46823, 49293, 53437, 56373, 62375, 66674, 68745, 68746, 74583, 79000,\n",
    "            78508, 79996, 80403, 83820, 88833, 91660, 87892, 96243, 90000, 99313, 91660, 102264, 100000, 100000, 91660, 99240, 108000, 105000, 104000]\n",
    "\n",
    "dev_richer_y = [17784, 16500, 18012, 20628, 25206, 30252, 34368, 38496, 42000, 46752, 49320, 53200, 56000, 62316, 64928, 67317, 68748, 73752, 77232,\n",
    "         78000, 78508, 79536, 82488, 88935, 90000, 90056, 95000, 90000, 91633, 91660, 98150, 98964, 100000, 98988, 100000, 108923, 105000, 103117]"
   ]
  },
  {
   "cell_type": "code",
   "execution_count": null,
   "id": "f343300b",
   "metadata": {},
   "outputs": [],
   "source": [
    "plt.plot(ages_richer_x, dev_richer_y, label='All Devs')   # color='#444444', linestyle='--', linewidth=3, \n",
    "plt.plot(ages_richer_x, py_dev_richer_y, label='Python')   # color='#5a7d9a', linewidth=3, \n",
    "plt.plot(ages_richer_x, js_dev_richer_y, label='JavaScript'),   # color='#adad3b', linewidth=3,\n",
    "\n",
    "plt.xlabel('Age')\n",
    "plt.ylabel('Median Salary (USD)')\n",
    "plt.title('Median Salary (USD) by Age')\n",
    "plt.legend()\n",
    "\n",
    "plt.tight_layout()\n",
    "plt.show()\n",
    "\n",
    "plt.savefig('richer_plot.png')"
   ]
  },
  {
   "cell_type": "markdown",
   "id": "e8e9f0c4",
   "metadata": {},
   "source": [
    "# Part II\n",
    "Bar Charts and Analyzing Data From CSV"
   ]
  },
  {
   "cell_type": "code",
   "execution_count": null,
   "id": "5dd3db2c",
   "metadata": {},
   "outputs": [],
   "source": [
    "plt.style.use('ggplot')"
   ]
  },
  {
   "cell_type": "code",
   "execution_count": null,
   "id": "96ba0f00",
   "metadata": {},
   "outputs": [],
   "source": [
    "plt.style.use('seaborn')"
   ]
  },
  {
   "cell_type": "code",
   "execution_count": null,
   "id": "2a665d9b",
   "metadata": {},
   "outputs": [],
   "source": [
    "plt.style.use('default')"
   ]
  },
  {
   "cell_type": "code",
   "execution_count": null,
   "id": "d7ad104c",
   "metadata": {},
   "outputs": [],
   "source": [
    "plt.bar(ages_x, dev_y, label=\"All Devs\")\n",
    "\n",
    "plt.tight_layout()\n",
    "plt.show()"
   ]
  },
  {
   "cell_type": "code",
   "execution_count": null,
   "id": "7e23d305",
   "metadata": {},
   "outputs": [],
   "source": [
    "x_indexes = np.arange(len(ages_x))\n",
    "width = 0.25"
   ]
  },
  {
   "cell_type": "code",
   "execution_count": null,
   "id": "976e9078",
   "metadata": {},
   "outputs": [],
   "source": [
    "dev_y = [38496, 42000, 46752, 49320, 53200,\n",
    "         56000, 62316, 64928, 67317, 68748, 73752]\n",
    "\n",
    "# Median Python Developer Salaries by Age\n",
    "py_dev_y = [45372, 48876, 53850, 57287, 63016,\n",
    "            65998, 70003, 70000, 71496, 75370, 83640]\n",
    "\n",
    "# Median JavaScript Developer Salaries by Age\n",
    "js_dev_y = [37810, 43515, 46823, 49293, 53437,\n",
    "            56373, 62375, 66674, 68745, 68746, 74583]"
   ]
  },
  {
   "cell_type": "code",
   "execution_count": null,
   "id": "012f04a9",
   "metadata": {},
   "outputs": [],
   "source": [
    "plt.bar(x_indexes - width, dev_y, width=width, label=\"All Devs\")\n",
    "plt.bar(x_indexes, py_dev_y, width=width, label=\"Python\")\n",
    "plt.bar(x_indexes + width, js_dev_y, width=width, label=\"JavaScript\")\n",
    "\n",
    "plt.xticks(ticks=x_indexes, labels=ages_x)\n",
    "plt.xlabel('Age')\n",
    "plt.ylabel('Median Salary (USD)')\n",
    "plt.title('Median Salary (USD) by Age')\n",
    "plt.legend()\n",
    "plt.show()"
   ]
  },
  {
   "cell_type": "code",
   "execution_count": null,
   "id": "4efb30ad",
   "metadata": {},
   "outputs": [],
   "source": [
    "with open ('data/languages.csv') as csv_file:\n",
    "    csv_reader = csv.DictReader(csv_file)\n",
    "    \n",
    "    language_counter\n",
    "    \n",
    "    for row in csv_reader:\n",
    "        language_counter.update(row['LanguagesWorkedWith'].split(';'))"
   ]
  },
  {
   "cell_type": "code",
   "execution_count": null,
   "id": "0da05a60",
   "metadata": {},
   "outputs": [],
   "source": [
    "languages = []\n",
    "popularity = []\n",
    "\n",
    "pprint(language_counter.most_common(10))"
   ]
  },
  {
   "cell_type": "code",
   "execution_count": null,
   "id": "569353f4",
   "metadata": {},
   "outputs": [],
   "source": [
    "for item in language_counter.most_common(15):\n",
    "    languages.append(item[0])\n",
    "    popularity.append(item[1])\n",
    "\n",
    "print(languages)\n",
    "print(popularity)"
   ]
  },
  {
   "cell_type": "code",
   "execution_count": null,
   "id": "8c2eddf3",
   "metadata": {},
   "outputs": [],
   "source": [
    "# one-liner for 2 cells above\n",
    "languages, popularity = map(list, zip(*language_counter.most_common(15)))\n",
    "\n",
    "print(languages)\n",
    "print(popularity)"
   ]
  },
  {
   "cell_type": "code",
   "execution_count": null,
   "id": "72465360",
   "metadata": {},
   "outputs": [],
   "source": [
    "languages.reverse()\n",
    "popularity.reverse()\n",
    "\n",
    "plt.barh(languages, popularity)\n",
    "\n",
    "plt.xlabel('Number of People Who Use')\n",
    "plt.title('Most Popular Languages')\n",
    "\n",
    "plt.show()"
   ]
  },
  {
   "cell_type": "code",
   "execution_count": null,
   "id": "94990d2d",
   "metadata": {},
   "outputs": [],
   "source": [
    "languages_df = pd.read_csv('data/languages.csv')\n",
    "ids = languages_df['Responder_id']\n",
    "langs = languages_df['LanguagesWorkedWith']\n",
    "language_counter = Counter()"
   ]
  },
  {
   "cell_type": "code",
   "execution_count": null,
   "id": "504c7097",
   "metadata": {},
   "outputs": [],
   "source": [
    "for response in langs:\n",
    "    language_counter.update(response.split(';'))"
   ]
  },
  {
   "cell_type": "code",
   "execution_count": null,
   "id": "b96e810d",
   "metadata": {},
   "outputs": [],
   "source": [
    "languages, popularity = map(list, zip(*language_counter.most_common(15)))\n",
    "languages.reverse()\n",
    "popularity.reverse()\n",
    "\n",
    "plt.barh(languages, popularity)\n",
    "\n",
    "plt.xlabel('Number of People Who Use')\n",
    "plt.title('Most Popular Languages')\n",
    "\n",
    "plt.show()"
   ]
  },
  {
   "cell_type": "markdown",
   "id": "d89e3dbc",
   "metadata": {},
   "source": [
    "# Part III\n",
    "Pie Charts"
   ]
  },
  {
   "cell_type": "code",
   "execution_count": null,
   "id": "901d4f2d",
   "metadata": {},
   "outputs": [],
   "source": [
    "plt.style.use('seaborn-dark')"
   ]
  },
  {
   "cell_type": "code",
   "execution_count": null,
   "id": "3afac5a5",
   "metadata": {},
   "outputs": [],
   "source": [
    "slices = [40, 60]"
   ]
  },
  {
   "cell_type": "code",
   "execution_count": null,
   "id": "72c0002c",
   "metadata": {},
   "outputs": [],
   "source": [
    "plt.pie(slices, wedgeprops={'edgecolor': 'black'})\n",
    "\n",
    "plt.title('Pie Chart')\n",
    "plt.tight_layout()\n",
    "plt.show()"
   ]
  },
  {
   "cell_type": "code",
   "execution_count": null,
   "id": "51caa534",
   "metadata": {},
   "outputs": [],
   "source": [
    "# Language Popularity\n",
    "slices = [59219, 55466, 47544, 36443, 35917, 31991, 27097, 23030, 20524, 18523, 18017, 7920, 7331, 7201, 5833]\n",
    "labels = ['JavaScript', 'HTML/CSS', 'SQL', 'Python', 'Java', 'Bash/Shell/PowerShell', \n",
    "          'C#', 'PHP', 'C++', 'TypeScript', 'C', 'Other(s):', 'Ruby', 'Go', 'Assembly']"
   ]
  },
  {
   "cell_type": "code",
   "execution_count": null,
   "id": "59407470",
   "metadata": {},
   "outputs": [],
   "source": [
    "plt.pie(slices, wedgeprops={'edgecolor': 'black'})\n",
    "\n",
    "plt.title('Language Popularity')\n",
    "plt.tight_layout()\n",
    "plt.show()"
   ]
  },
  {
   "cell_type": "code",
   "execution_count": null,
   "id": "3c6a2f58",
   "metadata": {},
   "outputs": [],
   "source": [
    "# Language Popularity\n",
    "slices = [59219, 55466, 47544, 36443, 35917]\n",
    "labels = ['JavaScript', 'HTML/CSS', 'SQL', 'Python', 'Java']\n",
    "explode = [0, 0, 0, 0.1, 0]"
   ]
  },
  {
   "cell_type": "code",
   "execution_count": null,
   "id": "3ec7e3dc",
   "metadata": {},
   "outputs": [],
   "source": [
    "plt.style.use('seaborn-poster')"
   ]
  },
  {
   "cell_type": "code",
   "execution_count": null,
   "id": "a3393aab",
   "metadata": {},
   "outputs": [],
   "source": [
    "plt.pie(slices, labels=labels, explode=explode, shadow=True, \n",
    "        startangle=145, autopct='%1.1f%%', wedgeprops={'edgecolor': 'black'})\n",
    "\n",
    "plt.title('Simple Language Popularity')\n",
    "plt.tight_layout()\n",
    "plt.show()"
   ]
  },
  {
   "cell_type": "markdown",
   "id": "f7b982c3",
   "metadata": {},
   "source": [
    "# Part IV\n",
    "Stack Plots"
   ]
  },
  {
   "cell_type": "code",
   "execution_count": null,
   "id": "eeadda70",
   "metadata": {},
   "outputs": [],
   "source": [
    "plt.style.use('Solarize_Light2')"
   ]
  },
  {
   "cell_type": "code",
   "execution_count": null,
   "id": "c07b1567",
   "metadata": {},
   "outputs": [],
   "source": [
    "minutes = list(range(1, 10))\n",
    "labels = ['player1', 'player2', 'player3']\n",
    "\n",
    "# player1 = [8, 6, 5, 5, 4, 2, 1, 1, 0]\n",
    "player1 = [0, 1, 1, 1, 2, 2, 3, 3, 4]\n",
    "player2 = [0, 1, 2, 2, 2, 4, 4, 4, 4]\n",
    "player3 = [0, 1, 1, 1, 2, 2, 3, 3, 4]"
   ]
  },
  {
   "cell_type": "code",
   "execution_count": null,
   "id": "f005b4b7",
   "metadata": {},
   "outputs": [],
   "source": [
    "plt.stackplot(minutes, player1, player2, player3, labels=labels)\n",
    "\n",
    "plt.title('Stackplot')\n",
    "plt.legend(loc='upper left')\n",
    "plt.tight_layout()\n",
    "plt.show()"
   ]
  },
  {
   "cell_type": "code",
   "execution_count": null,
   "id": "ec615ee4",
   "metadata": {},
   "outputs": [],
   "source": [
    "plt.style.use('fast')"
   ]
  },
  {
   "cell_type": "code",
   "execution_count": null,
   "id": "cf44fb78",
   "metadata": {},
   "outputs": [],
   "source": [
    "hours_per_day = list(range(1, 10))\n",
    "\n",
    "dev1 = [8, 6, 5, 5, 4, 2, 1, 1, 0]\n",
    "dev2 = [0, 1, 2, 2, 2, 4, 4, 4, 4]\n",
    "dev3 = [0, 1, 1, 1, 2, 2, 3, 3, 4]"
   ]
  },
  {
   "cell_type": "code",
   "execution_count": null,
   "id": "a18bf628",
   "metadata": {},
   "outputs": [],
   "source": [
    "plt.stackplot(hours_per_day, dev1, dev2, dev3, labels=labels)\n",
    "\n",
    "plt.title('Stackplot Devs')\n",
    "plt.legend(loc='best')\n",
    "plt.tight_layout()\n",
    "plt.show()"
   ]
  },
  {
   "cell_type": "markdown",
   "id": "59398ba9",
   "metadata": {},
   "source": [
    "# Part V\n",
    "Filling Area on Line Plots"
   ]
  },
  {
   "cell_type": "code",
   "execution_count": 4,
   "id": "fa36a966",
   "metadata": {},
   "outputs": [],
   "source": [
    "plt.style.use('seaborn-white')"
   ]
  },
  {
   "cell_type": "code",
   "execution_count": 5,
   "id": "63ca14ad",
   "metadata": {},
   "outputs": [
    {
     "data": {
      "text/plain": [
       "Index(['Age', 'All_Devs', 'Python', 'JavaScript'], dtype='object')"
      ]
     },
     "execution_count": 5,
     "metadata": {},
     "output_type": "execute_result"
    }
   ],
   "source": [
    "languages_df = pd.read_csv('data/languages_age.csv')\n",
    "languages_df.columns"
   ]
  },
  {
   "cell_type": "code",
   "execution_count": 6,
   "id": "79aa5b3d",
   "metadata": {},
   "outputs": [],
   "source": [
    "ages = languages_df['Age']\n",
    "dev_salaries = languages_df['All_Devs']\n",
    "py_salaries = languages_df['Python']\n",
    "js_salaries = languages_df['JavaScript']\n",
    "overall_median = 57287"
   ]
  },
  {
   "cell_type": "code",
   "execution_count": 7,
   "id": "e65670ef",
   "metadata": {},
   "outputs": [
    {
     "data": {
      "image/png": "[encoded data removed]",
      "text/plain": [
       "<Figure size 432x288 with 1 Axes>"
      ]
     },
     "metadata": {},
     "output_type": "display_data"
    }
   ],
   "source": [
    "plt.plot(ages, dev_salaries, label='All Devs')\n",
    "plt.plot(ages, py_salaries, label='Python')\n",
    "plt.plot(ages, js_salaries, label='JavaScript')\n",
    "\n",
    "plt.fill_between(ages, py_salaries, overall_median, \n",
    "                 where=(py_salaries > overall_median), \n",
    "                 interpolate=True, alpha=0.25)\n",
    "\n",
    "plt.fill_between(ages, py_salaries, overall_median, \n",
    "                 where=(py_salaries <= overall_median), \n",
    "                 interpolate=True, alpha=0.25)\n",
    "\n",
    "plt.xlabel('Age')\n",
    "plt.ylabel('Median Salary (USD)')\n",
    "plt.title('Median Salary (USD) by Age')\n",
    "plt.legend()\n",
    "\n",
    "plt.tight_layout()\n",
    "plt.show()"
   ]
  },
  {
   "cell_type": "markdown",
   "id": "9504d3f8",
   "metadata": {},
   "source": [
    "# Part VI \n",
    "Histograms"
   ]
  },
  {
   "cell_type": "code",
   "execution_count": null,
   "id": "5bac25ee",
   "metadata": {},
   "outputs": [],
   "source": [
    "ages = [18, 19, 21, 25, 26, 26, 30, 32, 38, 45, 55]\n",
    "bins = [10, 20, 30, 40, 50, 60]"
   ]
  },
  {
   "cell_type": "code",
   "execution_count": null,
   "id": "3c974dbe",
   "metadata": {},
   "outputs": [],
   "source": [
    "plt.hist(ages, bins=bins, edgecolor='black')\n",
    "\n",
    "plt.title('Ages of Respondents')\n",
    "plt.xlabel('Ages')\n",
    "plt.ylabel('Total Respondents')\n",
    "\n",
    "plt.tight_layout()\n",
    "\n",
    "plt.show()"
   ]
  },
  {
   "cell_type": "code",
   "execution_count": null,
   "id": "152639a6",
   "metadata": {},
   "outputs": [],
   "source": [
    "ages_df = pd.read_csv('data/ages.csv')\n",
    "ages_df.head()"
   ]
  },
  {
   "cell_type": "code",
   "execution_count": null,
   "id": "b9c83af4",
   "metadata": {},
   "outputs": [],
   "source": [
    "ids = ages_df['Responder_id']\n",
    "ages = ages_df['Age']\n",
    "bins = [10, 20, 30, 40, 50, 60]"
   ]
  },
  {
   "cell_type": "code",
   "execution_count": null,
   "id": "bdba51b6",
   "metadata": {},
   "outputs": [],
   "source": [
    "plt.hist(ages, bins=10, edgecolor='black', log=True)\n",
    "\n",
    "plt.title('Ages of Respondents')\n",
    "plt.xlabel('Ages')\n",
    "plt.ylabel('Total Respondents')\n",
    "\n",
    "plt.tight_layout()\n",
    "\n",
    "plt.show()"
   ]
  },
  {
   "cell_type": "markdown",
   "id": "6c3b6265",
   "metadata": {},
   "source": [
    "# Part VII\n",
    "Scatterplots"
   ]
  },
  {
   "cell_type": "code",
   "execution_count": null,
   "id": "05ec4c01",
   "metadata": {},
   "outputs": [],
   "source": [
    "plt.style.use('seaborn')"
   ]
  },
  {
   "cell_type": "code",
   "execution_count": null,
   "id": "89c65426",
   "metadata": {},
   "outputs": [],
   "source": [
    "x = [5, 7, 8, 5, 6, 7, 9, 2, 3, 4, 4, 4, 2, 6, 3, 6, 8, 6, 4, 1]\n",
    "y = [7, 4, 3, 9, 1, 3, 2, 5, 2, 4, 8, 7, 1, 6, 4, 9, 7, 7, 5, 1]"
   ]
  },
  {
   "cell_type": "code",
   "execution_count": null,
   "id": "85c4064f",
   "metadata": {},
   "outputs": [],
   "source": [
    "plt.scatter(x, y, s=100, edgecolor='black', linewidth=1, alpha=0.5)\n",
    "\n",
    "plt.show()"
   ]
  },
  {
   "cell_type": "code",
   "execution_count": null,
   "id": "9ef230a9",
   "metadata": {},
   "outputs": [],
   "source": [
    "plt.style.use('seaborn-poster')"
   ]
  },
  {
   "cell_type": "code",
   "execution_count": null,
   "id": "022d23f6",
   "metadata": {},
   "outputs": [],
   "source": [
    "data = pd.read_csv('data/2019-05-31-data.csv')\n",
    "view_count = data['view_count']\n",
    "likes = data['likes']\n",
    "ratio = data['ratio']"
   ]
  },
  {
   "cell_type": "code",
   "execution_count": null,
   "id": "ca67f2b1",
   "metadata": {},
   "outputs": [],
   "source": [
    "plt.scatter(view_count, likes, c=ratio, cmap='winter', \n",
    "            edgecolor='black', linewidth=1, alpha=0.75)\n",
    "\n",
    "plt.xscale('log')\n",
    "plt.yscale('log')\n",
    "\n",
    "cbar = plt.colorbar()\n",
    "cbar.set_label('Like/Dislike Ratio')\n",
    "\n",
    "plt.show()"
   ]
  },
  {
   "cell_type": "markdown",
   "id": "e9dda251",
   "metadata": {},
   "source": [
    "_Parts VIII and IX intentionally ommited - is in seperate notebook, due to different characteristic of data beind used_"
   ]
  },
  {
   "cell_type": "markdown",
   "id": "31e89bc8",
   "metadata": {},
   "source": [
    "# Part X\n",
    "Subplots"
   ]
  },
  {
   "cell_type": "code",
   "execution_count": null,
   "id": "f8120af8",
   "metadata": {},
   "outputs": [],
   "source": []
  }
 ],
 "metadata": {
  "kernelspec": {
   "display_name": "Python 3 (ipykernel)",
   "language": "python",
   "name": "python3"
  },
  "language_info": {
   "codemirror_mode": {
    "name": "ipython",
    "version": 3
   },
   "file_extension": ".py",
   "mimetype": "text/x-python",
   "name": "python",
   "nbconvert_exporter": "python",
   "pygments_lexer": "ipython3",
   "version": "3.7.3"
  }
 },
 "nbformat": 4,
 "nbformat_minor": 5
}
