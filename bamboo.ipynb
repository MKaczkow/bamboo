{
 "cells": [
  {
   "cell_type": "markdown",
   "id": "c6ca1d03",
   "metadata": {},
   "source": [
    "# Part I\n",
    "Installation and Data Loading"
   ]
  },
  {
   "cell_type": "code",
   "execution_count": null,
   "id": "d97e66a5",
   "metadata": {},
   "outputs": [],
   "source": [
    "import pandas as pd"
   ]
  },
  {
   "cell_type": "code",
   "execution_count": null,
   "id": "20d4f5b8",
   "metadata": {},
   "outputs": [],
   "source": [
    "main_df = pd.read_csv('data/survey_results_public.csv', index_col='ResponseId')\n",
    "schema_df = pd.read_csv('data/survey_results_schema.csv', index_col='qname')"
   ]
  },
  {
   "cell_type": "code",
   "execution_count": null,
   "id": "9cbafe01",
   "metadata": {},
   "outputs": [],
   "source": [
    "main_df.head()"
   ]
  },
  {
   "cell_type": "code",
   "execution_count": null,
   "id": "99a4b68f",
   "metadata": {},
   "outputs": [],
   "source": [
    "main_df.tail()"
   ]
  },
  {
   "cell_type": "code",
   "execution_count": null,
   "id": "c8667057",
   "metadata": {},
   "outputs": [],
   "source": [
    "main_df.shape"
   ]
  },
  {
   "cell_type": "code",
   "execution_count": null,
   "id": "b8972376",
   "metadata": {},
   "outputs": [],
   "source": [
    "main_df.info()"
   ]
  },
  {
   "cell_type": "code",
   "execution_count": null,
   "id": "6d938d81",
   "metadata": {},
   "outputs": [],
   "source": [
    "pd.set_option('display.max_columns', 85)\n",
    "pd.set_option('display.max_rows', 85)"
   ]
  },
  {
   "cell_type": "code",
   "execution_count": null,
   "id": "17075135",
   "metadata": {},
   "outputs": [],
   "source": [
    "schema_df"
   ]
  },
  {
   "cell_type": "markdown",
   "id": "438daf6a",
   "metadata": {},
   "source": [
    "# Part II\n",
    "Selecting Rows and Columns"
   ]
  },
  {
   "cell_type": "code",
   "execution_count": null,
   "id": "25712371",
   "metadata": {},
   "outputs": [],
   "source": [
    "main_df.columns"
   ]
  },
  {
   "cell_type": "code",
   "execution_count": null,
   "id": "a21a9a89",
   "metadata": {},
   "outputs": [],
   "source": [
    "main_df.iloc[[0, 1]]"
   ]
  },
  {
   "cell_type": "code",
   "execution_count": null,
   "id": "4e51b370",
   "metadata": {},
   "outputs": [],
   "source": [
    "main_df.iloc[[0, 1], 2]"
   ]
  },
  {
   "cell_type": "code",
   "execution_count": null,
   "id": "815f581f",
   "metadata": {},
   "outputs": [],
   "source": [
    "main_df.loc[19]"
   ]
  },
  {
   "cell_type": "code",
   "execution_count": null,
   "id": "199df550",
   "metadata": {},
   "outputs": [],
   "source": [
    "main_df.loc[1:10, 'YearsCodePro']"
   ]
  },
  {
   "cell_type": "code",
   "execution_count": null,
   "id": "bd842f1d",
   "metadata": {},
   "outputs": [],
   "source": [
    "main_df['OpSys'].value_counts()"
   ]
  },
  {
   "cell_type": "code",
   "execution_count": null,
   "id": "b6fd552d",
   "metadata": {},
   "outputs": [],
   "source": [
    "main_df.loc[0:15, 'OpSys':'SOAccount']"
   ]
  },
  {
   "cell_type": "code",
   "execution_count": null,
   "id": "cce280df",
   "metadata": {},
   "outputs": [],
   "source": [
    "main_df['DevType'].value_counts()"
   ]
  },
  {
   "cell_type": "markdown",
   "id": "369b3248",
   "metadata": {},
   "source": [
    "# Part III\n",
    "Indexes - Set, Reset, Use"
   ]
  },
  {
   "cell_type": "code",
   "execution_count": null,
   "id": "2155fa87",
   "metadata": {},
   "outputs": [],
   "source": [
    "main_df.set_index('OpSys', inplace=True)"
   ]
  },
  {
   "cell_type": "code",
   "execution_count": null,
   "id": "7a1c0e92",
   "metadata": {},
   "outputs": [],
   "source": [
    "main_df.loc['Linux-based']"
   ]
  },
  {
   "cell_type": "code",
   "execution_count": null,
   "id": "5cbf1c1e",
   "metadata": {},
   "outputs": [],
   "source": [
    "main_df.reset_index(inplace=True)"
   ]
  },
  {
   "cell_type": "code",
   "execution_count": null,
   "id": "1bb026e5",
   "metadata": {},
   "outputs": [],
   "source": [
    "schema_df.columns"
   ]
  },
  {
   "cell_type": "code",
   "execution_count": null,
   "id": "da5120d1",
   "metadata": {},
   "outputs": [],
   "source": [
    "schema_df.sort_index()"
   ]
  },
  {
   "cell_type": "code",
   "execution_count": null,
   "id": "7cdc2b3c",
   "metadata": {},
   "outputs": [],
   "source": [
    "schema_df.loc['Webframe', 'question']"
   ]
  },
  {
   "cell_type": "code",
   "execution_count": null,
   "id": "953873fc",
   "metadata": {},
   "outputs": [],
   "source": [
    "main_df['WebframeHaveWorkedWith'].unique()"
   ]
  },
  {
   "cell_type": "code",
   "execution_count": null,
   "id": "b562abaa",
   "metadata": {},
   "outputs": [],
   "source": [
    "schema_df.loc['CompTotal', 'question']"
   ]
  },
  {
   "cell_type": "code",
   "execution_count": null,
   "id": "2eb3f702",
   "metadata": {},
   "outputs": [],
   "source": [
    "main_df['CompTotal'].mean()"
   ]
  },
  {
   "cell_type": "code",
   "execution_count": null,
   "id": "23ac3f4a",
   "metadata": {},
   "outputs": [],
   "source": [
    "schema_df.loc['EdLevel', 'question']"
   ]
  },
  {
   "cell_type": "code",
   "execution_count": null,
   "id": "8e83b310",
   "metadata": {},
   "outputs": [],
   "source": [
    "main_df['EdLevel'].unique()"
   ]
  },
  {
   "cell_type": "code",
   "execution_count": null,
   "id": "bf314c34",
   "metadata": {},
   "outputs": [],
   "source": [
    "schema_df.loc['MainBranch', 'question']"
   ]
  },
  {
   "cell_type": "code",
   "execution_count": null,
   "id": "a8f10276",
   "metadata": {},
   "outputs": [],
   "source": [
    "main_df['MainBranch'].unique()"
   ]
  },
  {
   "cell_type": "code",
   "execution_count": null,
   "id": "06a5875b",
   "metadata": {},
   "outputs": [],
   "source": [
    "schema_df.loc['Employment', 'question']"
   ]
  },
  {
   "cell_type": "code",
   "execution_count": null,
   "id": "309049bc",
   "metadata": {},
   "outputs": [],
   "source": [
    "main_df['Employment'].unique()"
   ]
  },
  {
   "cell_type": "markdown",
   "id": "d65e106c",
   "metadata": {},
   "source": [
    "# Part IV\n",
    "Conditionals - Filtering Rows and Columns"
   ]
  },
  {
   "cell_type": "code",
   "execution_count": null,
   "id": "b8f12bba",
   "metadata": {},
   "outputs": [],
   "source": [
    "filt = (main_df['MainBranch'] == 'I am a developer by profession')"
   ]
  },
  {
   "cell_type": "code",
   "execution_count": null,
   "id": "c6dff2e5",
   "metadata": {},
   "outputs": [],
   "source": [
    "main_df.loc[filt]"
   ]
  },
  {
   "cell_type": "code",
   "execution_count": null,
   "id": "22b63260",
   "metadata": {},
   "outputs": [],
   "source": [
    "main_df.loc[filt, 'Employment']"
   ]
  },
  {
   "cell_type": "code",
   "execution_count": null,
   "id": "8930dbf7",
   "metadata": {},
   "outputs": [],
   "source": [
    "high_salary = (main_df['CompTotal'] > 70000)\n",
    "countries = ['United States of America', 'Germany', 'Canada', 'India', 'United Kingdom']\n",
    "filt = main_df['Country'].isin(countries)"
   ]
  },
  {
   "cell_type": "code",
   "execution_count": null,
   "id": "da5b3aa2",
   "metadata": {},
   "outputs": [],
   "source": [
    "main_df.loc[high_salary, ['Country', 'LanguageHaveWorkedWith', 'CompTotal']]"
   ]
  },
  {
   "cell_type": "code",
   "execution_count": null,
   "id": "cb835055",
   "metadata": {},
   "outputs": [],
   "source": [
    "main_df.loc[filt, ['Country', 'LanguageHaveWorkedWith', 'CompTotal']]"
   ]
  },
  {
   "cell_type": "code",
   "execution_count": null,
   "id": "6c25502f",
   "metadata": {},
   "outputs": [],
   "source": [
    "using_python = main_df['LanguageHaveWorkedWith'].str.contains('Python', na=False)"
   ]
  },
  {
   "cell_type": "code",
   "execution_count": null,
   "id": "dbdae314",
   "metadata": {},
   "outputs": [],
   "source": [
    "main_df.loc[using_python, 'LanguageHaveWorkedWith']"
   ]
  },
  {
   "cell_type": "markdown",
   "id": "d0a5ddd4",
   "metadata": {},
   "source": [
    "# Part V\n",
    "Updating Data in DataFrame - Rows and Columns"
   ]
  },
  {
   "cell_type": "code",
   "execution_count": null,
   "id": "5823c183",
   "metadata": {},
   "outputs": [],
   "source": [
    "main_df.columns"
   ]
  },
  {
   "cell_type": "code",
   "execution_count": null,
   "id": "9782035b",
   "metadata": {},
   "outputs": [],
   "source": [
    "main_df.columns = main_df.columns.str.replace('NEW', 'New')\n",
    "main_df.columns = main_df.columns.str.replace('SO', 'So')"
   ]
  },
  {
   "cell_type": "code",
   "execution_count": null,
   "id": "ef8b6ff4",
   "metadata": {},
   "outputs": [],
   "source": [
    "main_df.columns"
   ]
  },
  {
   "cell_type": "code",
   "execution_count": null,
   "id": "ed06b2a8",
   "metadata": {},
   "outputs": [],
   "source": [
    "# https://stackoverflow.com/questions/1175208/elegant-python-function-to-convert-camelcase-to-snake-case\n",
    "\n",
    "def camel_to_snake(s):\n",
    "    return ''.join(['_'+c.lower() if c.isupper() else c for c in s]).lstrip('_')"
   ]
  },
  {
   "cell_type": "code",
   "execution_count": null,
   "id": "e9f6a3ea",
   "metadata": {},
   "outputs": [],
   "source": [
    "main_df.columns = [camel_to_snake(column_name) for column_name in main_df.columns]"
   ]
  },
  {
   "cell_type": "code",
   "execution_count": null,
   "id": "e1ff3679",
   "metadata": {},
   "outputs": [],
   "source": [
    "main_df.columns"
   ]
  },
  {
   "cell_type": "code",
   "execution_count": null,
   "id": "37a61c2d",
   "metadata": {},
   "outputs": [],
   "source": [
    "main_df['age'] = main_df['age'].map({'Under 18 years old': 'kiddo', '65 years or older': 'old'})\n",
    "filt = (main_df['age'] == 'kiddo') | (main_df['age'] == 'old')\n",
    "main_df.loc[filt, 'age']"
   ]
  },
  {
   "cell_type": "code",
   "execution_count": null,
   "id": "f6798a93",
   "metadata": {},
   "outputs": [],
   "source": [
    "main_df['age'] = main_df['age'].map({'kiddo': 'Under 18 years old', 'old': 'Under 18 years old'})\n",
    "main_df['age']"
   ]
  },
  {
   "cell_type": "code",
   "execution_count": null,
   "id": "833e10a5",
   "metadata": {},
   "outputs": [],
   "source": [
    "main_df['age'].replace({None: ' nothing left here ...'}, inplace=True)\n",
    "main_df['age']"
   ]
  },
  {
   "cell_type": "code",
   "execution_count": null,
   "id": "62b3d33a",
   "metadata": {},
   "outputs": [],
   "source": [
    "main_df.rename(columns={'CompTotal': 'SalaryUSD'}, inplace=True)\n",
    "main_df['SalaryUSD']"
   ]
  },
  {
   "cell_type": "markdown",
   "id": "94177737",
   "metadata": {},
   "source": [
    "# Part VI\n",
    "Adding/Removing Data in DataFrame - Rows and Columns"
   ]
  },
  {
   "cell_type": "code",
   "execution_count": null,
   "id": "2aeeeb4d",
   "metadata": {},
   "outputs": [],
   "source": []
  }
 ],
 "metadata": {
  "kernelspec": {
   "display_name": "Python 3 (ipykernel)",
   "language": "python",
   "name": "python3"
  },
  "language_info": {
   "codemirror_mode": {
    "name": "ipython",
    "version": 3
   },
   "file_extension": ".py",
   "mimetype": "text/x-python",
   "name": "python",
   "nbconvert_exporter": "python",
   "pygments_lexer": "ipython3",
   "version": "3.7.3"
  }
 },
 "nbformat": 4,
 "nbformat_minor": 5
}
