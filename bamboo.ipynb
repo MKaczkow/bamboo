{
 "cells": [
  {
   "cell_type": "markdown",
   "id": "c6ca1d03",
   "metadata": {},
   "source": [
    "# Part I\n",
    "Installation and Data Loading"
   ]
  },
  {
   "cell_type": "code",
   "execution_count": null,
   "id": "d97e66a5",
   "metadata": {},
   "outputs": [],
   "source": [
    "import pandas as pd"
   ]
  },
  {
   "cell_type": "code",
   "execution_count": null,
   "id": "20d4f5b8",
   "metadata": {},
   "outputs": [],
   "source": [
    "main_df = pd.read_csv('data/survey_results_public.csv')"
   ]
  },
  {
   "cell_type": "code",
   "execution_count": null,
   "id": "9cbafe01",
   "metadata": {},
   "outputs": [],
   "source": [
    "main_df.head()"
   ]
  },
  {
   "cell_type": "code",
   "execution_count": null,
   "id": "99a4b68f",
   "metadata": {},
   "outputs": [],
   "source": [
    "main_df.tail()"
   ]
  },
  {
   "cell_type": "code",
   "execution_count": null,
   "id": "c8667057",
   "metadata": {},
   "outputs": [],
   "source": [
    "main_df.shape"
   ]
  },
  {
   "cell_type": "code",
   "execution_count": null,
   "id": "b8972376",
   "metadata": {},
   "outputs": [],
   "source": [
    "main_df.info()"
   ]
  },
  {
   "cell_type": "code",
   "execution_count": null,
   "id": "6d938d81",
   "metadata": {},
   "outputs": [],
   "source": [
    "pd.set_option('display.max_columns', 85)\n",
    "pd.set_option('display.max_rows', 85)"
   ]
  },
  {
   "cell_type": "code",
   "execution_count": null,
   "id": "00d1f301",
   "metadata": {},
   "outputs": [],
   "source": [
    "schema_df = pd.read_csv('data/survey_results_schema.csv')"
   ]
  },
  {
   "cell_type": "code",
   "execution_count": null,
   "id": "17075135",
   "metadata": {},
   "outputs": [],
   "source": [
    "schema_df"
   ]
  },
  {
   "cell_type": "markdown",
   "id": "438daf6a",
   "metadata": {},
   "source": [
    "# Part II\n",
    "Selecting Rows and Columns"
   ]
  },
  {
   "cell_type": "code",
   "execution_count": null,
   "id": "25712371",
   "metadata": {},
   "outputs": [],
   "source": [
    "main_df.columns"
   ]
  },
  {
   "cell_type": "code",
   "execution_count": null,
   "id": "a21a9a89",
   "metadata": {},
   "outputs": [],
   "source": [
    "main_df.iloc[[0, 1]]"
   ]
  },
  {
   "cell_type": "code",
   "execution_count": null,
   "id": "4e51b370",
   "metadata": {},
   "outputs": [],
   "source": [
    "main_df.iloc[[0, 1], 2]"
   ]
  },
  {
   "cell_type": "code",
   "execution_count": null,
   "id": "815f581f",
   "metadata": {},
   "outputs": [],
   "source": [
    "main_df.loc[19]"
   ]
  },
  {
   "cell_type": "code",
   "execution_count": null,
   "id": "199df550",
   "metadata": {},
   "outputs": [],
   "source": [
    "main_df.loc[range(1, 100), 'YearsCodePro']"
   ]
  },
  {
   "cell_type": "code",
   "execution_count": null,
   "id": "bd842f1d",
   "metadata": {},
   "outputs": [],
   "source": [
    "main_df['OpSys'].value_counts()"
   ]
  },
  {
   "cell_type": "code",
   "execution_count": null,
   "id": "b6fd552d",
   "metadata": {},
   "outputs": [],
   "source": [
    "main_df.loc[0:15, 'OpSys':'SOAccount']"
   ]
  },
  {
   "cell_type": "code",
   "execution_count": null,
   "id": "cce280df",
   "metadata": {},
   "outputs": [],
   "source": [
    "main_df['DevType'].value_counts()"
   ]
  },
  {
   "cell_type": "markdown",
   "id": "369b3248",
   "metadata": {},
   "source": [
    "# Part III\n",
    "Indexes - Set, Reset, Use"
   ]
  },
  {
   "cell_type": "code",
   "execution_count": null,
   "id": "2155fa87",
   "metadata": {},
   "outputs": [],
   "source": []
  }
 ],
 "metadata": {
  "kernelspec": {
   "display_name": "Python 3 (ipykernel)",
   "language": "python",
   "name": "python3"
  },
  "language_info": {
   "codemirror_mode": {
    "name": "ipython",
    "version": 3
   },
   "file_extension": ".py",
   "mimetype": "text/x-python",
   "name": "python",
   "nbconvert_exporter": "python",
   "pygments_lexer": "ipython3",
   "version": "3.7.3"
  }
 },
 "nbformat": 4,
 "nbformat_minor": 5
}
